{
  "nbformat": 4,
  "nbformat_minor": 0,
  "metadata": {
    "colab": {
      "name": "PyDrake_Tutorial_1.ipynb",
      "provenance": [],
      "authorship_tag": "ABX9TyPw7kGHCg59lizI0smzxg4Z",
      "include_colab_link": true
    },
    "kernelspec": {
      "name": "python3",
      "display_name": "Python 3"
    },
    "language_info": {
      "name": "python"
    }
  },
  "cells": [
    {
      "cell_type": "markdown",
      "metadata": {
        "id": "view-in-github",
        "colab_type": "text"
      },
      "source": [
        "<a href=\"https://colab.research.google.com/github/RiddhimanRaut/My_Drake_Adventure/blob/main/PyDrake_Tutorial_1.ipynb\" target=\"_parent\"><img src=\"https://colab.research.google.com/assets/colab-badge.svg\" alt=\"Open In Colab\"/></a>"
      ]
    },
    {
      "cell_type": "markdown",
      "metadata": {
        "id": "nDL1QYdTXb-X"
      },
      "source": [
        "Let's install PyDrake"
      ]
    },
    {
      "cell_type": "code",
      "metadata": {
        "id": "TZ_YEp9KXA8L"
      },
      "source": [
        "import importlib\n",
        "import sys\n",
        "from urllib.request import urlretrieve\n",
        "\n",
        "if 'google.colab' in sys.modules and importlib.util.find_spec('manipulation') is None:\n",
        "    urlretrieve(f\"http://manipulation.csail.mit.edu/scripts/setup/setup_manipulation_colab.py\",\n",
        "                \"setup_manipulation_colab.py\")\n",
        "    from setup_manipulation_colab import setup_manipulation\n",
        "    setup_manipulation(manipulation_sha='c1bdae733682f8a390f848bc6cb0dbbf9ea98602', drake_version='0.27.0', drake_build='release')\n",
        "\n",
        "server_args = []\n",
        "if 'google.colab' in sys.modules:\n",
        "  server_args = ['--ngrok_http_tunnel']\n",
        "\n",
        "from manipulation import running_as_notebook\n"
      ],
      "execution_count": 55,
      "outputs": []
    },
    {
      "cell_type": "markdown",
      "metadata": {
        "id": "vOsFL89mdn1r"
      },
      "source": [
        "First, We create our System using the LeafSystem library. Here we have created a system:\n",
        "$\\dot{x} = {x^2},$\n",
        "$y = x$.\n",
        "Using the LeafSystem removes the issues of using SymbolicVariables.\n"
      ]
    },
    {
      "cell_type": "code",
      "metadata": {
        "id": "_G7H065icbNi"
      },
      "source": [
        "from pydrake.systems.framework import BasicVector, LeafSystem\n",
        "\n",
        "class ContinuousTimeSystem(LeafSystem):\n",
        "  def __init__(self):\n",
        "    LeafSystem.__init__(self)\n",
        "\n",
        "    self.DeclareContinuousState(1) #1 state variable\n",
        "    self.DeclareVectorOutputPort(\"y\", BasicVector(1), self.CopyOutputState)\n",
        "  \n",
        "  def DoCalcTimeDerivatives(self, context, derivatives):\n",
        "    x = context.get_continuous_state_vector().GetAtIndex(0)\n",
        "    xdot = -x + x**3\n",
        "    derivatives.get_mutable_vector().SetAtIndex(0, xdot)\n",
        "\n",
        "  def CopyOutputState(self, context, output):\n",
        "    x = context.get_continuous_state_vector().CopyToVector() #copies to eigenvector\n",
        "    output.SetFromVector(x)"
      ],
      "execution_count": 56,
      "outputs": []
    },
    {
      "cell_type": "markdown",
      "metadata": {
        "id": "u-nRsSvreLzD"
      },
      "source": [
        "Now that we have created our system along with its dynamics, let's create our diagram and simulator!"
      ]
    },
    {
      "cell_type": "code",
      "metadata": {
        "id": "RHy7pTy_eKne"
      },
      "source": [
        "%matplotlib inline \n",
        "import matplotlib.pyplot as plt\n",
        "from pydrake.systems.analysis import Simulator\n",
        "from pydrake.systems.framework import DiagramBuilder\n",
        "from pydrake.systems.primitives import LogOutput\n",
        "\n",
        "#creating the diagram\n",
        "builder = DiagramBuilder()\n",
        "system = builder.AddSystem(ContinuousTimeSystem())\n",
        "logger = LogOutput(system.get_output_port(), builder)\n",
        "diagram = builder.Build()\n",
        "diagram.set_name('Continuous State Diagram')"
      ],
      "execution_count": 62,
      "outputs": []
    },
    {
      "cell_type": "markdown",
      "metadata": {
        "id": "oN2rcm3SfBUl"
      },
      "source": [
        "Our diagram has been built. Before simulating, we need to have a starting condition. We do it through initialising the context.\n"
      ]
    },
    {
      "cell_type": "code",
      "metadata": {
        "colab": {
          "base_uri": "https://localhost:8080/"
        },
        "id": "LfkPJXCufAXK",
        "outputId": "06c90ef8-045a-4b4d-d0b4-8188276ba352"
      },
      "source": [
        "context = diagram.CreateDefaultContext()\n",
        "context.SetContinuousState([0.9])\n",
        "print(context)"
      ],
      "execution_count": 63,
      "outputs": [
        {
          "output_type": "stream",
          "text": [
            "::Continuous State Diagram Context (of a Diagram)\n",
            "--------------------------------------------------\n",
            "1 total continuous states\n",
            "\n",
            "::Continuous State Diagram::__main__.ContinuousTimeSystem@000055c149b6adc0 Context\n",
            "-----------------------------------------------------------------------------------\n",
            "Time: 0\n",
            "States:\n",
            "  1 continuous states\n",
            "    0.9\n",
            "\n",
            "\n"
          ],
          "name": "stdout"
        }
      ]
    },
    {
      "cell_type": "markdown",
      "metadata": {
        "id": "6J3GFP0nfcSQ"
      },
      "source": [
        "Simulation time!"
      ]
    },
    {
      "cell_type": "code",
      "metadata": {
        "colab": {
          "base_uri": "https://localhost:8080/"
        },
        "id": "af4meU2_fbhb",
        "outputId": "327b809a-f644-46f0-c76c-196288b83e03"
      },
      "source": [
        "simulator = Simulator(diagram, context)\n",
        "simulator.AdvanceTo(10)"
      ],
      "execution_count": 64,
      "outputs": [
        {
          "output_type": "execute_result",
          "data": {
            "text/plain": [
              "<pydrake.systems.analysis.SimulatorStatus at 0x7f6f2ee7a670>"
            ]
          },
          "metadata": {
            "tags": []
          },
          "execution_count": 64
        }
      ]
    },
    {
      "cell_type": "markdown",
      "metadata": {
        "id": "FEo3SHnagPgb"
      },
      "source": [
        "The output of that simulation will be stored in the logger. Let's plot it!"
      ]
    },
    {
      "cell_type": "code",
      "metadata": {
        "colab": {
          "base_uri": "https://localhost:8080/",
          "height": 296
        },
        "id": "ZIQFS4EZgM9r",
        "outputId": "ffff19ff-90ef-4a25-81aa-6905a567623f"
      },
      "source": [
        "plt.figure()\n",
        "plt.plot(logger.sample_times(), logger.data().transpose())\n",
        "plt.xlabel('t')\n",
        "plt.ylabel('y(t)')"
      ],
      "execution_count": 65,
      "outputs": [
        {
          "output_type": "execute_result",
          "data": {
            "text/plain": [
              "Text(0, 0.5, 'y(t)')"
            ]
          },
          "metadata": {
            "tags": []
          },
          "execution_count": 65
        },
        {
          "output_type": "display_data",
          "data": {
            "image/png": "[encoded data removed]",
            "text/plain": [
              "<Figure size 432x288 with 1 Axes>"
            ]
          },
          "metadata": {
            "tags": [],
            "needs_background": "light"
          }
        }
      ]
    },
    {
      "cell_type": "markdown",
      "metadata": {
        "id": "-dVYmClKBtEv"
      },
      "source": [
        "Let's see how the diagram looks like!"
      ]
    },
    {
      "cell_type": "code",
      "metadata": {
        "colab": {
          "base_uri": "https://localhost:8080/",
          "height": 104
        },
        "id": "ZvRsJo_8BsdY",
        "outputId": "28447b39-9572-42b6-d402-246e68ab9dbb"
      },
      "source": [
        "from pydrake.systems.drawing import plot_system_graphviz\n",
        "plt.figure()\n",
        "plot_system_graphviz(diagram, max_depth = 2)"
      ],
      "execution_count": 67,
      "outputs": [
        {
          "output_type": "execute_result",
          "data": {
            "text/plain": [
              "<matplotlib.image.AxesImage at 0x7f6f2eceb6d0>"
            ]
          },
          "metadata": {
            "tags": []
          },
          "execution_count": 67
        },
        {
          "output_type": "display_data",
          "data": {
            "image/png": "[encoded data removed]",
            "text/plain": [
              "<Figure size 432x288 with 1 Axes>"
            ]
          },
          "metadata": {
            "tags": [],
            "needs_background": "light"
          }
        }
      ]
    }
  ]
}